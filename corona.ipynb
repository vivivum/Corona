{
  "cells": [
    {
      "cell_type": "code",
      "source": [
        "import numpy as np\n",
        "import matplotlib \n",
        "import matplotlib.pyplot as plt\n",
        "font = {'family' : 'normal',\n",
        "        'size'   : 14}\n",
        "\n",
        "matplotlib.rc('font', **font)"
      ],
      "outputs": [],
      "execution_count": 45,
      "metadata": {
        "collapsed": true,
        "execution": {
          "iopub.status.busy": "2020-09-11T12:37:48.200Z",
          "iopub.execute_input": "2020-09-11T12:37:48.203Z",
          "iopub.status.idle": "2020-09-11T12:37:48.211Z",
          "shell.execute_reply": "2020-09-11T12:37:48.214Z"
        }
      }
    },
    {
      "cell_type": "markdown",
      "source": [
        "### Distribution of brigtness in the solar corona\n",
        "\n",
        "The first ever model for the solar corona brightness was determined by [Baumback (1937)](https://ui.adsabs.harvard.edu/abs/1937AN....263..121B/abstract) after averaging several eclipse observations:\n",
        "\n",
        "$$\n",
        "\\begin{equation}\n",
        "I(R_\\odot) = 0.0532/R^{2.5}_\\odot + 1.425/R^{7.0}_\\odot+2.565/R^{17.0}_\\odot\n",
        "\\end{equation}\n",
        "$$\n",
        "\n",
        "where $R_\\odot$ stands for the distance from Sun center in solar radius units and the intensity at the solar disk center is $10^6$. This model was later improved by [November and Koutchmy (1996)](https://ui.adsabs.harvard.edu/abs/1996ApJ...466..512N/abstract) using observations of solar eclipse observations taken on 11 July 1991 from Mauna Kea, Hawaii, with the Sun at maximum activity:\n",
        "\n",
        "$$\n",
        "\\begin{equation}\n",
        "I(R_\\odot) = 0.0551/R^{2.5}_\\odot + 1.939/R^{7.8}_\\odot+3.670/R^{18.0}_\\odot\n",
        "\\end{equation}\n",
        "$$\n",
        "\n"
      ],
      "metadata": {
        "nteract": {
          "transient": {
            "deleting": false
          }
        }
      }
    },
    {
      "cell_type": "code",
      "source": [
        "def I_sun(r):\n",
        "   '''\n",
        "   some info\n",
        "   '''\n",
        "   Baumback = (0.0532/r**2.5 + 1.425/r**7.0+2.565/r**17.0 ) / 1e6\n",
        "   November = (0.0551/r**2.5 + 1.939/r**7.8+3.670/r**18.0 ) / 1e6\n",
        "\n",
        "   return Baumback,November"
      ],
      "outputs": [],
      "execution_count": 50,
      "metadata": {
        "collapsed": true,
        "jupyter": {
          "source_hidden": false,
          "outputs_hidden": false
        },
        "nteract": {
          "transient": {
            "deleting": false
          }
        },
        "execution": {
          "iopub.status.busy": "2020-09-11T12:55:50.377Z",
          "iopub.execute_input": "2020-09-11T12:55:50.380Z",
          "iopub.status.idle": "2020-09-11T12:55:50.393Z",
          "shell.execute_reply": "2020-09-11T12:55:50.398Z"
        }
      }
    },
    {
      "cell_type": "code",
      "source": [
        "r = np.arange(1, 5, 0.01)\n",
        "Ib,In = I_sun(r)\n",
        "\n",
        "fig = plt.figure(figsize=(10,5))\n",
        "fig.add_subplot(111)\n",
        "plt.plot(r,Ib, color='red', lw=2,label='Baumback')\n",
        "plt.plot(r,In, color='blue', lw=2,label='November')\n",
        "plt.yscale('log')\n",
        "plt.xlabel('$R_\\odot$', fontsize=16)\n",
        "plt.ylabel('Normalized Intensity', fontsize=16)\n",
        "plt.legend()\n",
        "py.show()"
      ],
      "outputs": [
        {
          "output_type": "display_data",
          "data": {
            "text/plain": "<Figure size 720x360 with 1 Axes>",
            "image/png": "[encoded data removed]"
          },
          "metadata": {
            "needs_background": "light"
          }
        }
      ],
      "execution_count": 56,
      "metadata": {
        "collapsed": true,
        "execution": {
          "iopub.status.busy": "2020-09-11T12:57:09.877Z",
          "iopub.execute_input": "2020-09-11T12:57:09.905Z",
          "iopub.status.idle": "2020-09-11T12:57:10.418Z",
          "shell.execute_reply": "2020-09-11T12:57:10.434Z"
        },
        "jupyter": {
          "source_hidden": false
        }
      }
    },
    {
      "cell_type": "code",
      "source": [],
      "outputs": [],
      "execution_count": null,
      "metadata": {
        "collapsed": true
      }
    }
  ],
  "metadata": {
    "kernelspec": {
      "name": "python3",
      "language": "python",
      "display_name": "Python 3"
    },
    "language_info": {
      "name": "python",
      "version": "3.7.7",
      "mimetype": "text/x-python",
      "codemirror_mode": {
        "name": "ipython",
        "version": 3
      },
      "pygments_lexer": "ipython3",
      "nbconvert_exporter": "python",
      "file_extension": ".py"
    },
    "nteract": {
      "version": "0.25.0"
    },
    "kernel_info": {
      "name": "python3"
    }
  },
  "nbformat": 4,
  "nbformat_minor": 2
}